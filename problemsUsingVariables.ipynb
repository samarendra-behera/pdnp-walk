{
 "cells": [
  {
   "cell_type": "code",
   "execution_count": null,
   "id": "07dddc4c-d14a-421e-b349-d90350abfafa",
   "metadata": {},
   "outputs": [],
   "source": [
    "'''\n",
    "A grocery store sells a bag of ice for $1.25 and makes a 20% profit. \n",
    "If it sells 500 bags of ice, how much total profit does it make? \n",
    "'''"
   ]
  },
  {
   "cell_type": "code",
   "execution_count": null,
   "id": "74a9be3c-b69c-436d-9df7-058ea1ea7e06",
   "metadata": {},
   "outputs": [],
   "source": [
    "cost_of_ice_bag=1.25"
   ]
  },
  {
   "cell_type": "code",
   "execution_count": null,
   "id": "42589911-77af-4cfc-90ea-87e691ee199f",
   "metadata": {},
   "outputs": [],
   "source": [
    "profit_margin = 0.2"
   ]
  },
  {
   "cell_type": "code",
   "execution_count": null,
   "id": "56ca5048-ad5f-4797-9dc0-6fdc0a16f37a",
   "metadata": {},
   "outputs": [],
   "source": [
    "number_of_beg = 500"
   ]
  },
  {
   "cell_type": "code",
   "execution_count": null,
   "id": "09a24872-8859-41c6-90b4-93fc23ab1712",
   "metadata": {},
   "outputs": [],
   "source": [
    "profit_per_beg = profit_margin * cost_of_ice_bag"
   ]
  },
  {
   "cell_type": "code",
   "execution_count": null,
   "id": "4238e19e-c47b-466e-a176-30d488fe9e8f",
   "metadata": {},
   "outputs": [],
   "source": [
    "total_profit = 500 * profit_per_beg"
   ]
  },
  {
   "cell_type": "code",
   "execution_count": null,
   "id": "f1fd377d-01d3-4001-a585-7536969353e1",
   "metadata": {},
   "outputs": [],
   "source": [
    "total_profit"
   ]
  },
  {
   "cell_type": "code",
   "execution_count": null,
   "id": "3f92600b-08d4-4a92-a3b8-167df653ad28",
   "metadata": {},
   "outputs": [],
   "source": [
    "print(\"The grocery store makes a total profit of $\", total_profit)"
   ]
  },
  {
   "cell_type": "code",
   "execution_count": null,
   "id": "f7e17ddf-199c-4aaf-99d2-90dd2561ba78",
   "metadata": {},
   "outputs": [],
   "source": [
    "# Let's rewrite the solution to our word problem within a single cell.\n",
    "\n",
    "# Store input data in variables\n",
    "cost_of_ice_bag = 1.25\n",
    "profit_margin = .2\n",
    "number_of_bags = 500\n",
    "\n",
    "# Perform the required calculations\n",
    "profit_per_bag = cost_of_ice_bag * profit_margin\n",
    "total_profit = number_of_bags * profit_per_bag\n",
    "\n",
    "# Display the result\n",
    "print(\"The grocery store makes a total profit of $\", total_profit)\n"
   ]
  },
  {
   "cell_type": "code",
   "execution_count": null,
   "id": "803b878d-626f-4cc0-9667-12fa6e46ff9e",
   "metadata": {},
   "outputs": [],
   "source": [
    "# Storing information using variables"
   ]
  },
  {
   "cell_type": "code",
   "execution_count": null,
   "id": "f7864f2e-5574-422d-9fc1-56c2e05904d5",
   "metadata": {},
   "outputs": [],
   "source": [
    "my_favorite_color = \"blue\""
   ]
  },
  {
   "cell_type": "code",
   "execution_count": null,
   "id": "4d788f56-b82e-492d-97e2-ebe70c8c7218",
   "metadata": {},
   "outputs": [],
   "source": [
    "my_favorite_color"
   ]
  },
  {
   "cell_type": "code",
   "execution_count": null,
   "id": "04678f87-65ec-4982-bc31-f013cf234423",
   "metadata": {},
   "outputs": [],
   "source": [
    "color1, color2, color3 = 'blue', 'red', 'green'"
   ]
  },
  {
   "cell_type": "code",
   "execution_count": null,
   "id": "f82f0c70-43af-4451-9646-a6d516ad780b",
   "metadata": {},
   "outputs": [],
   "source": [
    "color1"
   ]
  },
  {
   "cell_type": "code",
   "execution_count": null,
   "id": "ada778b9-8c79-4359-a225-1f541260ffd4",
   "metadata": {},
   "outputs": [],
   "source": [
    "color2"
   ]
  },
  {
   "cell_type": "code",
   "execution_count": null,
   "id": "9ba8c73d-ab91-4b99-bb59-4d9ddeb94319",
   "metadata": {},
   "outputs": [],
   "source": [
    "color3"
   ]
  },
  {
   "cell_type": "code",
   "execution_count": null,
   "id": "f0bdd64e-1654-42f4-9305-9d5d290fdef8",
   "metadata": {},
   "outputs": [],
   "source": [
    "color4 = color5 = color6 = \"magenta\""
   ]
  },
  {
   "cell_type": "code",
   "execution_count": null,
   "id": "69ca4af8-9daf-4861-b718-ae1ce33e4a91",
   "metadata": {},
   "outputs": [],
   "source": [
    "color4"
   ]
  },
  {
   "cell_type": "code",
   "execution_count": null,
   "id": "5f2cbc88-8d83-47d9-953d-1711f6b4185f",
   "metadata": {},
   "outputs": [],
   "source": [
    "color5"
   ]
  },
  {
   "cell_type": "code",
   "execution_count": null,
   "id": "b2c31004-c9e4-482a-9190-a8d4c5207389",
   "metadata": {},
   "outputs": [],
   "source": [
    "color6"
   ]
  },
  {
   "cell_type": "code",
   "execution_count": null,
   "id": "7d9f4eff-95c8-48e5-b459-0ec437013ba0",
   "metadata": {},
   "outputs": [],
   "source": [
    "my_favorite_color = \"red\""
   ]
  },
  {
   "cell_type": "code",
   "execution_count": null,
   "id": "dd4b1ac9-dccf-4652-bd34-14f44033eeff",
   "metadata": {},
   "outputs": [],
   "source": [
    "my_favorite_color"
   ]
  },
  {
   "cell_type": "code",
   "execution_count": null,
   "id": "02cb8bc7-06bd-447c-aeab-7ce5a28e3d10",
   "metadata": {},
   "outputs": [],
   "source": [
    "counter = 10"
   ]
  },
  {
   "cell_type": "code",
   "execution_count": null,
   "id": "39df809a-7211-405d-8183-3327c49b7312",
   "metadata": {},
   "outputs": [],
   "source": [
    "counter = counter + 1"
   ]
  },
  {
   "cell_type": "code",
   "execution_count": null,
   "id": "c83a1c42-8e30-4526-b11b-272f49f9e9a6",
   "metadata": {},
   "outputs": [],
   "source": [
    "counter"
   ]
  },
  {
   "cell_type": "code",
   "execution_count": null,
   "id": "9ad5c2d4-eb79-496e-9582-4bb9fa159366",
   "metadata": {},
   "outputs": [],
   "source": [
    "counter = 10"
   ]
  },
  {
   "cell_type": "code",
   "execution_count": null,
   "id": "db0e1da0-c619-4ebb-a0fb-06f28b954cca",
   "metadata": {},
   "outputs": [],
   "source": [
    "counter+=4"
   ]
  },
  {
   "cell_type": "code",
   "execution_count": null,
   "id": "224f060f-eae5-4684-943a-df5b8f82db0e",
   "metadata": {},
   "outputs": [],
   "source": [
    "counter"
   ]
  },
  {
   "cell_type": "code",
   "execution_count": null,
   "id": "9db2067a-4429-42ce-badb-24f6e5e877c6",
   "metadata": {},
   "outputs": [],
   "source": [
    "# Built-in data types in Python"
   ]
  },
  {
   "cell_type": "code",
   "execution_count": null,
   "id": "7687dc02-0ecd-4aa1-8770-53f895d731b1",
   "metadata": {},
   "outputs": [],
   "source": [
    "a_variable = 23"
   ]
  },
  {
   "cell_type": "code",
   "execution_count": null,
   "id": "6deec7f7-efb9-409f-bc9b-26f330fb8661",
   "metadata": {},
   "outputs": [],
   "source": [
    "a_variable"
   ]
  },
  {
   "cell_type": "code",
   "execution_count": null,
   "id": "04830c89-aa5c-4d4b-be95-2d23cb9b2cb4",
   "metadata": {},
   "outputs": [],
   "source": [
    "type(a_variable)"
   ]
  },
  {
   "cell_type": "code",
   "execution_count": null,
   "id": "90ba988e-81e5-4424-b787-5e04113e938e",
   "metadata": {},
   "outputs": [],
   "source": [
    "is_today_Saturday = False"
   ]
  },
  {
   "cell_type": "code",
   "execution_count": null,
   "id": "b1856553-0449-4f33-9492-674eb48ffd36",
   "metadata": {},
   "outputs": [],
   "source": [
    "type(is_today_Saturday)"
   ]
  },
  {
   "cell_type": "code",
   "execution_count": null,
   "id": "95395d13-c45b-41b6-be2e-5a0f156c9119",
   "metadata": {},
   "outputs": [],
   "source": [
    "my_favorite_car = \"Delorean\""
   ]
  },
  {
   "cell_type": "code",
   "execution_count": null,
   "id": "903f84fe-f9f6-4aad-9ac7-8d6b30a5f37d",
   "metadata": {},
   "outputs": [],
   "source": [
    "type(my_favorite_car)"
   ]
  },
  {
   "cell_type": "code",
   "execution_count": null,
   "id": "12c961f1-2f45-42ac-bee6-2a707da6099f",
   "metadata": {},
   "outputs": [],
   "source": [
    "the_3_musketeers = ['Athos', 'Porthos', 'Aramis']"
   ]
  },
  {
   "cell_type": "code",
   "execution_count": null,
   "id": "3d7815cb-2409-4d4f-9d87-b017912f7340",
   "metadata": {},
   "outputs": [],
   "source": [
    "type(the_3_musketeers)"
   ]
  },
  {
   "cell_type": "code",
   "execution_count": null,
   "id": "ffb955d0-0cb9-40f2-ac11-d092a632008e",
   "metadata": {},
   "outputs": [],
   "source": [
    "+ False"
   ]
  },
  {
   "cell_type": "code",
   "execution_count": null,
   "id": "ff9e4e5d-526a-4848-8268-fd73f1e51c73",
   "metadata": {},
   "outputs": [],
   "source": [
    "5 + False"
   ]
  },
  {
   "cell_type": "code",
   "execution_count": null,
   "id": "071f8da2-14e0-4587-8fce-515759b946b5",
   "metadata": {},
   "outputs": [],
   "source": [
    "5 - True"
   ]
  },
  {
   "cell_type": "code",
   "execution_count": null,
   "id": "06607a63-e75d-41bb-8b69-7d7e6e709103",
   "metadata": {},
   "outputs": [],
   "source": [
    "5 * False"
   ]
  },
  {
   "cell_type": "code",
   "execution_count": null,
   "id": "6c995c0c-538d-4f89-85cb-a290f762b95f",
   "metadata": {},
   "outputs": [],
   "source": [
    "# Any value in Python can be converted to a Boolean using the bool function.\n",
    "# Only the following values evaluate to False (they are often called falsy values):"
   ]
  },
  {
   "cell_type": "code",
   "execution_count": null,
   "id": "77440bcd-7bd1-40d3-9b0e-45e93759110c",
   "metadata": {},
   "outputs": [],
   "source": [
    "bool(False)"
   ]
  },
  {
   "cell_type": "code",
   "execution_count": null,
   "id": "49a88c3a-f1fc-499d-a352-6d5abf0bb781",
   "metadata": {},
   "outputs": [],
   "source": [
    "bool(0)"
   ]
  },
  {
   "cell_type": "code",
   "execution_count": null,
   "id": "215a3b96-4065-4279-ad07-95dfcd5e4afd",
   "metadata": {},
   "outputs": [],
   "source": [
    "bool(\"\")"
   ]
  },
  {
   "cell_type": "code",
   "execution_count": null,
   "id": "0e85c894-ed29-4331-9e82-5c8ea6a42dca",
   "metadata": {},
   "outputs": [],
   "source": [
    "bool(None)"
   ]
  },
  {
   "cell_type": "code",
   "execution_count": null,
   "id": "841c81c3-abbb-45ab-b33d-621dc2050e3c",
   "metadata": {},
   "outputs": [],
   "source": [
    "bool(0.0)"
   ]
  },
  {
   "cell_type": "code",
   "execution_count": null,
   "id": "fc90915e-1be4-4f85-af54-5677feac06d0",
   "metadata": {},
   "outputs": [],
   "source": [
    "bool([])"
   ]
  },
  {
   "cell_type": "code",
   "execution_count": null,
   "id": "acfaa50f-0ddd-40b1-bab1-770eb8d2b687",
   "metadata": {},
   "outputs": [],
   "source": [
    "bool({})"
   ]
  },
  {
   "cell_type": "code",
   "execution_count": null,
   "id": "b5aa595d-d18a-4578-87a3-e0c843515d78",
   "metadata": {},
   "outputs": [],
   "source": [
    "bool(())"
   ]
  },
  {
   "cell_type": "code",
   "execution_count": null,
   "id": "6d37ca9f-ddc2-4a85-b8f3-008738b20f90",
   "metadata": {},
   "outputs": [],
   "source": [
    "bool(set())"
   ]
  },
  {
   "cell_type": "code",
   "execution_count": null,
   "id": "3f63858d-7bc6-49af-9273-3cd5e6681467",
   "metadata": {},
   "outputs": [],
   "source": [
    "bool(range(0))"
   ]
  },
  {
   "cell_type": "code",
   "execution_count": null,
   "id": "540eb790-28f8-476c-9bab-6d9a4605e3c7",
   "metadata": {},
   "outputs": [],
   "source": [
    "bool(True), bool(1), bool(2.0), bool(\"hello\"), bool([1,2]), bool((2,3)), bool(range(10))"
   ]
  },
  {
   "cell_type": "code",
   "execution_count": null,
   "id": "d20f6f26-bf40-44c7-8f13-65b6b1584cf9",
   "metadata": {},
   "outputs": [],
   "source": [
    "nothing = None"
   ]
  },
  {
   "cell_type": "code",
   "execution_count": null,
   "id": "af6b4341-043c-405a-af20-3a637e3281fe",
   "metadata": {},
   "outputs": [],
   "source": [
    "type(nothing)"
   ]
  },
  {
   "cell_type": "code",
   "execution_count": null,
   "id": "f93c2ebb-7710-4297-a413-7adf8706d619",
   "metadata": {},
   "outputs": [],
   "source": [
    "len(nothing)"
   ]
  },
  {
   "cell_type": "code",
   "execution_count": null,
   "id": "1a2ab681-d3ba-464a-8ba3-a7154c1c4400",
   "metadata": {},
   "outputs": [],
   "source": [
    "num = 34"
   ]
  },
  {
   "cell_type": "code",
   "execution_count": null,
   "id": "b49b62a4-39d5-429c-946a-a955a5b522cf",
   "metadata": {},
   "outputs": [],
   "source": [
    "len(num)"
   ]
  },
  {
   "cell_type": "code",
   "execution_count": null,
   "id": "a3c4d203-f93e-4a8f-a4aa-a2a9ecc7b66f",
   "metadata": {},
   "outputs": [],
   "source": [
    "today = \"Saturday\""
   ]
  },
  {
   "cell_type": "code",
   "execution_count": null,
   "id": "99655151-22dd-4451-8862-311e774f34d8",
   "metadata": {},
   "outputs": [],
   "source": [
    "len(today)"
   ]
  },
  {
   "cell_type": "code",
   "execution_count": null,
   "id": "c8eca957-6ac9-46fa-827d-e8bbb3c76ba4",
   "metadata": {},
   "outputs": [],
   "source": []
  }
 ],
 "metadata": {
  "kernelspec": {
   "display_name": "Python 3 (ipykernel)",
   "language": "python",
   "name": "python3"
  },
  "language_info": {
   "codemirror_mode": {
    "name": "ipython",
    "version": 3
   },
   "file_extension": ".py",
   "mimetype": "text/x-python",
   "name": "python",
   "nbconvert_exporter": "python",
   "pygments_lexer": "ipython3",
   "version": "3.12.0"
  }
 },
 "nbformat": 4,
 "nbformat_minor": 5
}
