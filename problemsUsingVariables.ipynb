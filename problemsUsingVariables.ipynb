{
 "cells": [
  {
   "cell_type": "code",
   "execution_count": null,
   "id": "07dddc4c-d14a-421e-b349-d90350abfafa",
   "metadata": {},
   "outputs": [],
   "source": [
    "'''\n",
    "A grocery store sells a bag of ice for $1.25 and makes a 20% profit. \n",
    "If it sells 500 bags of ice, how much total profit does it make? \n",
    "'''"
   ]
  },
  {
   "cell_type": "code",
   "execution_count": null,
   "id": "74a9be3c-b69c-436d-9df7-058ea1ea7e06",
   "metadata": {},
   "outputs": [],
   "source": [
    "cost_of_icebeg=1.25"
   ]
  },
  {
   "cell_type": "code",
   "execution_count": null,
   "id": "42589911-77af-4cfc-90ea-87e691ee199f",
   "metadata": {},
   "outputs": [],
   "source": [
    "profit_margin = 0.2"
   ]
  },
  {
   "cell_type": "code",
   "execution_count": null,
   "id": "56ca5048-ad5f-4797-9dc0-6fdc0a16f37a",
   "metadata": {},
   "outputs": [],
   "source": [
    "number_of_beg = 500"
   ]
  },
  {
   "cell_type": "code",
   "execution_count": null,
   "id": "09a24872-8859-41c6-90b4-93fc23ab1712",
   "metadata": {},
   "outputs": [],
   "source": [
    "profit_per_beg = .2 * cost_of_icebeg"
   ]
  },
  {
   "cell_type": "code",
   "execution_count": null,
   "id": "4238e19e-c47b-466e-a176-30d488fe9e8f",
   "metadata": {},
   "outputs": [],
   "source": [
    "total_profit = 500 * profit_per_beg"
   ]
  },
  {
   "cell_type": "code",
   "execution_count": null,
   "id": "f1fd377d-01d3-4001-a585-7536969353e1",
   "metadata": {},
   "outputs": [],
   "source": [
    "total_profit"
   ]
  },
  {
   "cell_type": "code",
   "execution_count": null,
   "id": "3f92600b-08d4-4a92-a3b8-167df653ad28",
   "metadata": {},
   "outputs": [],
   "source": [
    "print(\"The grocery store makes a total profit of $\", total_profit)"
   ]
  },
  {
   "cell_type": "code",
   "execution_count": null,
   "id": "f7e17ddf-199c-4aaf-99d2-90dd2561ba78",
   "metadata": {},
   "outputs": [],
   "source": [
    "# Let's rewrite the solution to our word problem within a single cell.\n",
    "\n",
    "# Store input data in variables\n",
    "cost_of_ice_bag = 1.25\n",
    "profit_margin = .2\n",
    "number_of_bags = 500\n",
    "\n",
    "# Perform the required calculations\n",
    "profit_per_bag = cost_of_ice_bag * profit_margin\n",
    "total_profit = number_of_bags * profit_per_bag\n",
    "\n",
    "# Display the result\n",
    "print(\"The grocery store makes a total profit of $\", total_profit)\n"
   ]
  }
 ],
 "metadata": {
  "kernelspec": {
   "display_name": "Python 3 (ipykernel)",
   "language": "python",
   "name": "python3"
  },
  "language_info": {
   "codemirror_mode": {
    "name": "ipython",
    "version": 3
   },
   "file_extension": ".py",
   "mimetype": "text/x-python",
   "name": "python",
   "nbconvert_exporter": "python",
   "pygments_lexer": "ipython3",
   "version": "3.11.0"
  }
 },
 "nbformat": 4,
 "nbformat_minor": 5
}
