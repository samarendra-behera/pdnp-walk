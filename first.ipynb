{
 "cells": [
  {
   "cell_type": "code",
   "execution_count": 2,
   "id": "9d350d67-04d2-45c6-bf6e-03acca8d6b8d",
   "metadata": {},
   "outputs": [
    {
     "name": "stdout",
     "output_type": "stream",
     "text": [
      "Hello Jupyter\n"
     ]
    }
   ],
   "source": [
    "print(\"Hello Jupyter\")"
   ]
  },
  {
   "cell_type": "code",
   "execution_count": 1,
   "id": "20219e63-f929-4cce-bbd1-37b223bb9250",
   "metadata": {},
   "outputs": [
    {
     "name": "stdout",
     "output_type": "stream",
     "text": [
      "Hello Jupyter\n"
     ]
    }
   ],
   "source": [
    "print(\"Hello Jupyter\")"
   ]
  },
  {
   "cell_type": "code",
   "execution_count": 3,
   "id": "95c47315-b5cb-49fd-ad39-b907360c7c3a",
   "metadata": {},
   "outputs": [
    {
     "data": {
      "text/plain": [
       "14"
      ]
     },
     "execution_count": 3,
     "metadata": {},
     "output_type": "execute_result"
    }
   ],
   "source": [
    "2 + 3 + 9"
   ]
  },
  {
   "cell_type": "code",
   "execution_count": 4,
   "id": "cb24ad0d-2383-4529-8668-524c0f882ace",
   "metadata": {},
   "outputs": [
    {
     "data": {
      "text/plain": [
       "26"
      ]
     },
     "execution_count": 4,
     "metadata": {},
     "output_type": "execute_result"
    }
   ],
   "source": [
    "99 - 73"
   ]
  },
  {
   "cell_type": "code",
   "execution_count": 5,
   "id": "3dcf2aff-51a0-4f28-aefd-fde5f559b848",
   "metadata": {},
   "outputs": [
    {
     "data": {
      "text/plain": [
       "-33709.28"
      ]
     },
     "execution_count": 5,
     "metadata": {},
     "output_type": "execute_result"
    }
   ],
   "source": [
    "23.54 * -1432"
   ]
  },
  {
   "cell_type": "code",
   "execution_count": 6,
   "id": "3423a5b1-1d4a-4e38-b069-09fc36e005ed",
   "metadata": {},
   "outputs": [
    {
     "data": {
      "text/plain": [
       "14.285714285714286"
      ]
     },
     "execution_count": 6,
     "metadata": {},
     "output_type": "execute_result"
    }
   ],
   "source": [
    "100 / 7"
   ]
  },
  {
   "cell_type": "code",
   "execution_count": 7,
   "id": "34fc117a-6538-498d-9ced-de47281ed026",
   "metadata": {},
   "outputs": [
    {
     "data": {
      "text/plain": [
       "14"
      ]
     },
     "execution_count": 7,
     "metadata": {},
     "output_type": "execute_result"
    }
   ],
   "source": [
    "100 // 7"
   ]
  },
  {
   "cell_type": "code",
   "execution_count": 8,
   "id": "cddbe35e-72e6-42c7-89c0-135e25746611",
   "metadata": {},
   "outputs": [
    {
     "data": {
      "text/plain": [
       "125"
      ]
     },
     "execution_count": 8,
     "metadata": {},
     "output_type": "execute_result"
    }
   ],
   "source": [
    "5 ** 3"
   ]
  },
  {
   "cell_type": "code",
   "execution_count": 10,
   "id": "e1371a28-b056-43db-96ae-bd3cffd19568",
   "metadata": {},
   "outputs": [
    {
     "data": {
      "text/plain": [
       "1.53125"
      ]
     },
     "execution_count": 10,
     "metadata": {},
     "output_type": "execute_result"
    }
   ],
   "source": [
    "((2+5) * (17 - 3 ) / (4 ** 3))"
   ]
  },
  {
   "cell_type": "code",
   "execution_count": 12,
   "id": "7db4021c-7c95-44e2-b3ce-8d2b6c9d472d",
   "metadata": {},
   "outputs": [
    {
     "data": {
      "text/plain": [
       "117578"
      ]
     },
     "execution_count": 12,
     "metadata": {},
     "output_type": "execute_result"
    }
   ],
   "source": [
    "198568 - (45312 + 35678)"
   ]
  },
  {
   "cell_type": "code",
   "execution_count": 13,
   "id": "35d4c522-2c13-4654-846d-ba2a279b738c",
   "metadata": {},
   "outputs": [
    {
     "data": {
      "text/plain": [
       "58200"
      ]
     },
     "execution_count": 13,
     "metadata": {},
     "output_type": "execute_result"
    }
   ],
   "source": [
    "2425 * 24"
   ]
  },
  {
   "cell_type": "code",
   "execution_count": 14,
   "id": "009edd1c-f40d-402b-9e3c-c443a6696f90",
   "metadata": {},
   "outputs": [
    {
     "data": {
      "text/plain": [
       "585"
      ]
     },
     "execution_count": 14,
     "metadata": {},
     "output_type": "execute_result"
    }
   ],
   "source": [
    "5000 - (2265 + 2150)"
   ]
  },
  {
   "cell_type": "code",
   "execution_count": 16,
   "id": "24f5cee1-1ffb-4582-b32c-ead4d40d2889",
   "metadata": {},
   "outputs": [
    {
     "data": {
      "text/plain": [
       "4564"
      ]
     },
     "execution_count": 16,
     "metadata": {},
     "output_type": "execute_result"
    }
   ],
   "source": [
    "95844 // 21"
   ]
  },
  {
   "cell_type": "code",
   "execution_count": 17,
   "id": "6479153f-6da2-4212-b3a0-4706e232e410",
   "metadata": {},
   "outputs": [
    {
     "data": {
      "text/plain": [
       "294384"
      ]
     },
     "execution_count": 17,
     "metadata": {},
     "output_type": "execute_result"
    }
   ],
   "source": [
    "24532 * 12"
   ]
  },
  {
   "cell_type": "code",
   "execution_count": 18,
   "id": "9cbf3ad6-3aca-4420-bf40-cf0dec2dbfec",
   "metadata": {},
   "outputs": [
    {
     "data": {
      "text/plain": [
       "1162128"
      ]
     },
     "execution_count": 18,
     "metadata": {},
     "output_type": "execute_result"
    }
   ],
   "source": [
    "9372 * 124"
   ]
  },
  {
   "cell_type": "code",
   "execution_count": 19,
   "id": "1b829944-5187-44df-af76-26989e5bf5d4",
   "metadata": {},
   "outputs": [
    {
     "data": {
      "text/plain": [
       "51.0"
      ]
     },
     "execution_count": 19,
     "metadata": {},
     "output_type": "execute_result"
    }
   ],
   "source": [
    "4386 / 86"
   ]
  },
  {
   "cell_type": "code",
   "execution_count": 20,
   "id": "93204da0-857c-4635-8034-b5b67dc5b87c",
   "metadata": {},
   "outputs": [
    {
     "data": {
      "text/plain": [
       "21.0"
      ]
     },
     "execution_count": 20,
     "metadata": {},
     "output_type": "execute_result"
    }
   ],
   "source": [
    "1575 / 75"
   ]
  },
  {
   "cell_type": "code",
   "execution_count": 21,
   "id": "7c4cd7d3-c5d9-4b7c-90d0-6094357b7180",
   "metadata": {},
   "outputs": [
    {
     "data": {
      "text/plain": [
       "51625"
      ]
     },
     "execution_count": 21,
     "metadata": {},
     "output_type": "execute_result"
    }
   ],
   "source": [
    "1475 * 35"
   ]
  },
  {
   "cell_type": "code",
   "execution_count": 22,
   "id": "9b2cf8be-f98e-4d8d-8e98-a2e2e448c50b",
   "metadata": {},
   "outputs": [
    {
     "data": {
      "text/plain": [
       "134249"
      ]
     },
     "execution_count": 22,
     "metadata": {},
     "output_type": "execute_result"
    }
   ],
   "source": [
    "52496 + 44929 + 36824"
   ]
  },
  {
   "cell_type": "code",
   "execution_count": 23,
   "id": "dcd3fefa-cc6a-4b3a-8d3b-ba29f9ec668e",
   "metadata": {},
   "outputs": [
    {
     "data": {
      "text/plain": [
       "135.0"
      ]
     },
     "execution_count": 23,
     "metadata": {},
     "output_type": "execute_result"
    }
   ],
   "source": [
    "12960 / 96"
   ]
  },
  {
   "cell_type": "code",
   "execution_count": 24,
   "id": "9cbfadb2-c40c-4c5d-b70a-ff38a81e4bc0",
   "metadata": {},
   "outputs": [
    {
     "data": {
      "text/plain": [
       "13975"
      ]
     },
     "execution_count": 24,
     "metadata": {},
     "output_type": "execute_result"
    }
   ],
   "source": [
    "1015 + 12960"
   ]
  },
  {
   "cell_type": "code",
   "execution_count": null,
   "id": "049fd669-72a1-45ab-9073-5803600a96c6",
   "metadata": {},
   "outputs": [],
   "source": []
  }
 ],
 "metadata": {
  "kernelspec": {
   "display_name": "Python 3 (ipykernel)",
   "language": "python",
   "name": "python3"
  },
  "language_info": {
   "codemirror_mode": {
    "name": "ipython",
    "version": 3
   },
   "file_extension": ".py",
   "mimetype": "text/x-python",
   "name": "python",
   "nbconvert_exporter": "python",
   "pygments_lexer": "ipython3",
   "version": "3.12.0"
  }
 },
 "nbformat": 4,
 "nbformat_minor": 5
}
